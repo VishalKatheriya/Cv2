{
 "cells": [
  {
   "cell_type": "markdown",
   "id": "831f7bba",
   "metadata": {},
   "source": [
    "# sobel"
   ]
  },
  {
   "cell_type": "code",
   "execution_count": 20,
   "id": "a661e04e",
   "metadata": {},
   "outputs": [],
   "source": [
    "import cv2 as cv\n",
    "import numpy as np"
   ]
  },
  {
   "cell_type": "code",
   "execution_count": null,
   "id": "06c9cb87",
   "metadata": {},
   "outputs": [],
   "source": [
    "pip install opencv-python"
   ]
  },
  {
   "cell_type": "code",
   "execution_count": 3,
   "id": "721d3462",
   "metadata": {},
   "outputs": [],
   "source": [
    "img = cv.imread(\"photo-1575936123452-b67c3203c357.jpg\",0)"
   ]
  },
  {
   "cell_type": "code",
   "execution_count": 21,
   "id": "858e7f6c",
   "metadata": {},
   "outputs": [
    {
     "data": {
      "text/plain": [
       "-1"
      ]
     },
     "execution_count": 21,
     "metadata": {},
     "output_type": "execute_result"
    }
   ],
   "source": [
    "cv.imshow(\"image\",img)\n",
    "cv.waitKey(0)"
   ]
  },
  {
   "cell_type": "code",
   "execution_count": 4,
   "id": "53b67a83",
   "metadata": {},
   "outputs": [
    {
     "data": {
      "text/plain": [
       "(667, 1000)"
      ]
     },
     "execution_count": 4,
     "metadata": {},
     "output_type": "execute_result"
    }
   ],
   "source": [
    "img.shape"
   ]
  },
  {
   "cell_type": "code",
   "execution_count": 5,
   "id": "f3a1f05a",
   "metadata": {},
   "outputs": [
    {
     "data": {
      "text/plain": [
       "667000"
      ]
     },
     "execution_count": 5,
     "metadata": {},
     "output_type": "execute_result"
    }
   ],
   "source": [
    "img.size"
   ]
  },
  {
   "cell_type": "code",
   "execution_count": 36,
   "id": "d337c632",
   "metadata": {},
   "outputs": [],
   "source": [
    "gx = np.array([[-1,-2,-1],[0,0,0],[1,2,1]])\n",
    "gy = np.array([[-1,0,1],[-2,0,2],[-1,0,1]])"
   ]
  },
  {
   "cell_type": "code",
   "execution_count": 37,
   "id": "fd20ea0e",
   "metadata": {},
   "outputs": [
    {
     "data": {
      "text/plain": [
       "array([[-1,  0,  1],\n",
       "       [-2,  0,  2],\n",
       "       [-1,  0,  1]])"
      ]
     },
     "execution_count": 37,
     "metadata": {},
     "output_type": "execute_result"
    }
   ],
   "source": [
    "gy"
   ]
  },
  {
   "cell_type": "code",
   "execution_count": 44,
   "id": "92c1c031",
   "metadata": {},
   "outputs": [
    {
     "data": {
      "text/plain": [
       "-1"
      ]
     },
     "execution_count": 44,
     "metadata": {},
     "output_type": "execute_result"
    }
   ],
   "source": [
    "img1 = cv.filter2D(img.copy(),0,gx)\n",
    "cv.imshow(\"image\",img1)\n",
    "cv.waitKey(0)\n",
    "\n"
   ]
  },
  {
   "cell_type": "code",
   "execution_count": 47,
   "id": "46c807d0",
   "metadata": {},
   "outputs": [],
   "source": [
    "img2 = cv.filter2D(img.copy(),0,gy)\n",
    "cv.imshow(\"image\",img1)\n",
    "cv.imshow(\"image1\",img2)\n",
    "cv.waitKey(0)\n",
    "cv.destroyAllWindows()"
   ]
  },
  {
   "cell_type": "code",
   "execution_count": 50,
   "id": "83314a91",
   "metadata": {},
   "outputs": [],
   "source": [
    "img3 = cv.filter2D(img1.copy(),0,gy)\n",
    "cv.imshow(\"image1\",img1)\n",
    "cv.imshow(\"image3\",img3)\n",
    "cv.waitKey(0)\n",
    "cv.destroyAllWindows()"
   ]
  },
  {
   "cell_type": "code",
   "execution_count": null,
   "id": "88362096",
   "metadata": {},
   "outputs": [],
   "source": []
  }
 ],
 "metadata": {
  "kernelspec": {
   "display_name": "Python 3",
   "language": "python",
   "name": "python3"
  },
  "language_info": {
   "codemirror_mode": {
    "name": "ipython",
    "version": 3
   },
   "file_extension": ".py",
   "mimetype": "text/x-python",
   "name": "python",
   "nbconvert_exporter": "python",
   "pygments_lexer": "ipython3",
   "version": "3.8.8"
  }
 },
 "nbformat": 4,
 "nbformat_minor": 5
}
