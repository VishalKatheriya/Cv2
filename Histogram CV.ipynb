{
 "cells": [
  {
   "cell_type": "code",
   "execution_count": 3,
   "id": "011e73d0",
   "metadata": {},
   "outputs": [],
   "source": [
    "# import Opencv\n",
    "import cv2\n",
    "\n",
    "# import Numpy\n",
    "import numpy as np\n",
    "\n",
    "# read a image using imread\n",
    "img = cv2.imread('lake-192990__340.jpg', 0)\n",
    "\n",
    "# creating a Histograms Equalization\n",
    "# of a image using cv2.equalizeHist()\n",
    "equ = cv2.equalizeHist(img)\n",
    "\n",
    "# stacking images side-by-side\n",
    "res = np.hstack((img, equ))\n",
    "\n",
    "# show image input vs output\n",
    "cv2.imshow('image', res)\n",
    "\n",
    "cv2.waitKey(0)\n",
    "cv2.destroyAllWindows()\n"
   ]
  },
  {
   "cell_type": "code",
   "execution_count": null,
   "id": "f3e8a63e",
   "metadata": {},
   "outputs": [],
   "source": []
  }
 ],
 "metadata": {
  "kernelspec": {
   "display_name": "Python 3",
   "language": "python",
   "name": "python3"
  },
  "language_info": {
   "codemirror_mode": {
    "name": "ipython",
    "version": 3
   },
   "file_extension": ".py",
   "mimetype": "text/x-python",
   "name": "python",
   "nbconvert_exporter": "python",
   "pygments_lexer": "ipython3",
   "version": "3.8.8"
  }
 },
 "nbformat": 4,
 "nbformat_minor": 5
}
