{
 "cells": [
  {
   "cell_type": "code",
   "execution_count": 9,
   "id": "86f8434f",
   "metadata": {},
   "outputs": [
    {
     "name": "stdout",
     "output_type": "stream",
     "text": [
      "[[2, 3, 3, 3, 3, 3, 4, 4, 4, 4, 4, 4], [2, 3, 3, 3, 3, 3, 4, 4, 4, 4, 4, 4], [3, 3, 3, 1, 3, 3, 4, 1, 4, 4, 0, 4], [3, 3, 1, 1, 1, 3, 1, 1, 1, 4, 4, 4], [3, 1, 1, 1, 1, 1, 1, 1, 1, 1, 4, 4], [3, 1, 1, 0, 0, 0, 0, 0, 1, 1, 4, 4], [3, 1, 1, 0, 0, 0, 0, 0, 1, 1, 4, 4], [2, 1, 1, 1, 1, 0, 0, 0, 1, 1, 2, 2], [2, 1, 1, 1, 0, 0, 0, 0, 1, 2, 2, 2], [2, 2, 1, 1, 1, 0, 0, 2, 2, 2, 1, 0], [2, 2, 2, 1, 1, 0, 0, 2, 2, 2, 1, 1], [2, 2, 2, 2, 2, 2, 2, 2, 2, 0, 1, 0]]\n",
      "[[2, 3, 3, 3, 3, 3, 9, 9, 9, 9, 9, 9], [2, 3, 3, 3, 3, 3, 9, 9, 9, 9, 9, 9], [3, 3, 3, 1, 3, 3, 9, 1, 9, 9, 0, 9], [3, 3, 1, 1, 1, 3, 1, 1, 1, 9, 9, 9], [3, 1, 1, 1, 1, 1, 1, 1, 1, 1, 9, 9], [3, 1, 1, 0, 0, 0, 0, 0, 1, 1, 9, 9], [3, 1, 1, 0, 0, 0, 0, 0, 1, 1, 9, 9], [2, 1, 1, 1, 1, 0, 0, 0, 1, 1, 2, 2], [2, 1, 1, 1, 0, 0, 0, 0, 1, 2, 2, 2], [2, 2, 1, 1, 1, 0, 0, 2, 2, 2, 1, 0], [2, 2, 2, 1, 1, 0, 0, 2, 2, 2, 1, 1], [2, 2, 2, 2, 2, 2, 2, 2, 2, 0, 1, 0]]\n"
     ]
    }
   ],
   "source": [
    "import random\n",
    "\n",
    "m =[[2,3,3,3,3,3,4,4,4,4,4,4],\n",
    "\t[2,3,3,3,3,3,4,4,4,4,4,4],\n",
    "\t[3,3,3,1,3,3,4,1,4,4,0,4],\n",
    "\t[3,3,1,1,1,3,1,1,1,4,4,4],\n",
    "\t[3,1,1,1,1,1,1,1,1,1,4,4],\n",
    "\t[3,1,1,0,0,0,0,0,1,1,4,4],\n",
    "\t[3,1,1,0,0,0,0,0,1,1,4,4],\n",
    "\t[2,1,1,1,1,0,0,0,1,1,2,2],\n",
    "\t[2,1,1,1,0,0,0,0,1,2,2,2],\n",
    "\t[2,2,1,1,1,0,0,2,2,2,1,0],\n",
    "\t[2,2,2,1,1,0,0,2,2,2,1,1],\n",
    "\t[2,2,2,2,2,2,2,2,2,0,1,0]\n",
    "\t]\n",
    "\n",
    "def flood_recursive(matrix):\n",
    "\twidth = len(matrix)\n",
    "\theight = len(matrix[0])\n",
    "\tdef fill(x,y,start_color,color_to_update):\n",
    "\t\t#if the square is not the same color as the starting point\n",
    "\t\tif matrix[x][y] != start_color:\n",
    "\t\t\treturn\n",
    "\t\t#if the square is not the new color\n",
    "\t\telif matrix[x][y] == color_to_update:\n",
    "\t\t\treturn\n",
    "\t\telse:\n",
    "\t\t\t#update the color of the current square to the replacement color\n",
    "\t\t\tmatrix[x][y] = color_to_update\n",
    "\t\t\tneighbors = [(x-1,y),(x+1,y),(x-1,y-1),(x+1,y+1),(x-1,y+1),(x+1,y-1),(x,y-1),(x,y+1)]\n",
    "\t\t\tfor n in neighbors:\n",
    "\t\t\t\tif 0 <= n[0] <= width-1 and 0 <= n[1] <= height-1:\n",
    "\t\t\t\t\tfill(n[0],n[1],start_color,color_to_update)\n",
    "\tstart_x = random.randint(0,width-1)\n",
    "\tstart_y = random.randint(0,height-1)\n",
    "\tstart_color = matrix[start_x][start_y]\n",
    "\tfill(start_x,start_y,start_color,9)\n",
    "\treturn matrix\n",
    "print(m)\n",
    "print(flood_recursive(m))"
   ]
  },
  {
   "cell_type": "code",
   "execution_count": null,
   "id": "b7686169",
   "metadata": {},
   "outputs": [],
   "source": []
  }
 ],
 "metadata": {
  "kernelspec": {
   "display_name": "Python 3 (ipykernel)",
   "language": "python",
   "name": "python3"
  },
  "language_info": {
   "codemirror_mode": {
    "name": "ipython",
    "version": 3
   },
   "file_extension": ".py",
   "mimetype": "text/x-python",
   "name": "python",
   "nbconvert_exporter": "python",
   "pygments_lexer": "ipython3",
   "version": "3.9.7"
  }
 },
 "nbformat": 4,
 "nbformat_minor": 5
}
