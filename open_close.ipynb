{
 "cells": [
  {
   "cell_type": "code",
   "execution_count": 1,
   "id": "af0b389f",
   "metadata": {},
   "outputs": [],
   "source": [
    "import cv2 as cv\n",
    "import numpy as np"
   ]
  },
  {
   "cell_type": "code",
   "execution_count": 2,
   "id": "07578c26",
   "metadata": {},
   "outputs": [],
   "source": [
    "def grayscale_to_blackwhie(img):\n",
    "    for i in range(img.shape[0]):\n",
    "        for j in range(img.shape[1]):\n",
    "            if img[i][j]>50:\n",
    "                img[i][j]=1\n",
    "            else:\n",
    "                img[i][j]=0\n",
    "    return img"
   ]
  },
  {
   "cell_type": "code",
   "execution_count": 3,
   "id": "31591eea",
   "metadata": {},
   "outputs": [],
   "source": [
    "def dil(img,SE):\n",
    "    SE_size=SE.shape[0]//2\n",
    "    img_temp=img.copy()\n",
    "    for i in range(SE_size,img.shape[0]-SE_size):\n",
    "        for j in range(SE_size,img.shape[1]-SE_size):\n",
    "            temp=img[i-SE_size:i+SE_size+1,j-SE_size:j+SE_size+1]\n",
    "            if not (temp == SE).any():\n",
    "                img_temp[i,j]=0\n",
    "            else:\n",
    "                img_temp[i,j]=255\n",
    "    return img_temp"
   ]
  },
  {
   "cell_type": "code",
   "execution_count": 4,
   "id": "6911f199",
   "metadata": {},
   "outputs": [],
   "source": [
    "def erosion(img,SE):\n",
    "    SE_size=SE.shape[0]//2\n",
    "    img_temp=img.copy()\n",
    "    for i in range(SE_size,img.shape[0]-SE_size):\n",
    "        for j in range(SE_size,img.shape[1]-SE_size):\n",
    "            temp=img[i-SE_size:i+SE_size+1,j-SE_size:j+SE_size+1]\n",
    "            if not (temp == SE).all():\n",
    "                img_temp[i,j]=0\n",
    "    return img_temp"
   ]
  },
  {
   "cell_type": "code",
   "execution_count": 5,
   "id": "724c163d",
   "metadata": {},
   "outputs": [],
   "source": [
    "#CLose\n",
    "img=cv.imread('binary-images.png')\n",
    "t,img=cv.threshold(img,127,255,cv.THRESH_BINARY)\n",
    "SE=np.array([[255,255,255],[255,255,255],[255,255,255]])\n",
    "new_img=dil(img,SE)\n",
    "eros=erosion(new_img,SE)"
   ]
  },
  {
   "cell_type": "code",
   "execution_count": 12,
   "id": "2afd3754",
   "metadata": {},
   "outputs": [
    {
     "data": {
      "text/plain": [
       "-1"
      ]
     },
     "execution_count": 12,
     "metadata": {},
     "output_type": "execute_result"
    }
   ],
   "source": [
    "con1=np.concatenate((new_img,eros),axis=1)\n",
    "cv.imshow(\"close\",con1)\n",
    "cv.waitKey(0)"
   ]
  },
  {
   "cell_type": "code",
   "execution_count": 7,
   "id": "80fcda3f",
   "metadata": {},
   "outputs": [],
   "source": [
    "#Open\n",
    "img=cv.imread('binary-images.png')\n",
    "t,img=cv.threshold(img,127,255,cv.THRESH_BINARY)\n",
    "SE=np.array([[255,255,255],[255,255,255],[255,255,255]])\n",
    "new_img=erosion(img,SE)\n",
    "dilation=dil(new_img,SE)"
   ]
  },
  {
   "cell_type": "code",
   "execution_count": 13,
   "id": "46d4171d",
   "metadata": {},
   "outputs": [
    {
     "data": {
      "text/plain": [
       "-1"
      ]
     },
     "execution_count": 13,
     "metadata": {},
     "output_type": "execute_result"
    }
   ],
   "source": [
    "con2=np.concatenate((new_img,eros),axis=1)\n",
    "cv.imshow(\"open\",con2)\n",
    "cv.waitKey(0)"
   ]
  },
  {
   "cell_type": "code",
   "execution_count": 14,
   "id": "a3a4766e",
   "metadata": {},
   "outputs": [
    {
     "data": {
      "text/plain": [
       "-1"
      ]
     },
     "execution_count": 14,
     "metadata": {},
     "output_type": "execute_result"
    }
   ],
   "source": [
    "con=np.concatenate((con1,con2),axis=1)\n",
    "cv.imshow(\"open\",con)\n",
    "cv.waitKey(0)"
   ]
  },
  {
   "cell_type": "code",
   "execution_count": null,
   "id": "60e16e82",
   "metadata": {},
   "outputs": [],
   "source": []
  }
 ],
 "metadata": {
  "kernelspec": {
   "display_name": "Python 3 (ipykernel)",
   "language": "python",
   "name": "python3"
  },
  "language_info": {
   "codemirror_mode": {
    "name": "ipython",
    "version": 3
   },
   "file_extension": ".py",
   "mimetype": "text/x-python",
   "name": "python",
   "nbconvert_exporter": "python",
   "pygments_lexer": "ipython3",
   "version": "3.9.12"
  }
 },
 "nbformat": 4,
 "nbformat_minor": 5
}
