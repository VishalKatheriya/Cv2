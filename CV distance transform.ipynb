{
 "cells": [
  {
   "cell_type": "code",
   "execution_count": 1,
   "id": "f5dd134a",
   "metadata": {},
   "outputs": [],
   "source": [
    "# Distance Transform\n",
    "import cv2\n",
    "import numpy as np"
   ]
  },
  {
   "cell_type": "code",
   "execution_count": 2,
   "id": "78a1acb1",
   "metadata": {},
   "outputs": [],
   "source": [
    "img = cv2.imread(\"ZiClJf-1920w.jpg\",0)\n",
    "# cv2.imshow(\"original\",img)\n",
    "# cv2.waitKey(0)\n",
    "# cv2.destroyAllWindows()"
   ]
  },
  {
   "cell_type": "code",
   "execution_count": 6,
   "id": "479b2d9a",
   "metadata": {},
   "outputs": [
    {
     "data": {
      "text/plain": [
       "array([[48. , 51. , 48. , ..., 40.5, 40.5, 40.5],\n",
       "       [49.5, 49.5, 51. , ..., 40.5, 40.5, 40.5],\n",
       "       [50. , 48. , 56. , ..., 40.5, 40.5, 40.5],\n",
       "       ...,\n",
       "       [ 3. ,  3.5,  4.5, ...,  0. ,  3.5, 10. ],\n",
       "       [ 3. ,  4. ,  5. , ...,  0. ,  6. , 15. ],\n",
       "       [ 3. ,  4. ,  5. , ...,  0. ,  8.5, 19.5]])"
      ]
     },
     "execution_count": 6,
     "metadata": {},
     "output_type": "execute_result"
    }
   ],
   "source": []
  },
  {
   "cell_type": "code",
   "execution_count": 3,
   "id": "df1648fe",
   "metadata": {},
   "outputs": [],
   "source": [
    "temp, threshold = cv2.threshold(img, 123, 255, cv2.THRESH_BINARY)"
   ]
  },
  {
   "cell_type": "code",
   "execution_count": 4,
   "id": "8f062390",
   "metadata": {},
   "outputs": [],
   "source": [
    "dist = cv2.distanceTransform(img,cv2.DIST_L1,3)\n",
    "cv2.imshow(\"original\",img)\n",
    "cv2.imshow(\"dist\",dist)\n",
    "cv2.waitKey(0)\n",
    "cv2.destroyAllWindows()"
   ]
  },
  {
   "cell_type": "code",
   "execution_count": null,
   "id": "b7b1e106",
   "metadata": {},
   "outputs": [],
   "source": []
  },
  {
   "cell_type": "code",
   "execution_count": null,
   "id": "c8318d30",
   "metadata": {},
   "outputs": [],
   "source": []
  },
  {
   "cell_type": "code",
   "execution_count": null,
   "id": "6b75b7c3",
   "metadata": {},
   "outputs": [],
   "source": []
  }
 ],
 "metadata": {
  "kernelspec": {
   "display_name": "Python 3",
   "language": "python",
   "name": "python3"
  },
  "language_info": {
   "codemirror_mode": {
    "name": "ipython",
    "version": 3
   },
   "file_extension": ".py",
   "mimetype": "text/x-python",
   "name": "python",
   "nbconvert_exporter": "python",
   "pygments_lexer": "ipython3",
   "version": "3.8.8"
  }
 },
 "nbformat": 4,
 "nbformat_minor": 5
}
