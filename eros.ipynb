{
 "cells": [
  {
   "cell_type": "code",
   "execution_count": 1,
   "id": "f816b9f0",
   "metadata": {},
   "outputs": [],
   "source": [
    "import cv2 as cv\n",
    "import numpy as np"
   ]
  },
  {
   "cell_type": "code",
   "execution_count": 5,
   "id": "a7841d36",
   "metadata": {},
   "outputs": [
    {
     "data": {
      "text/plain": [
       "-1"
      ]
     },
     "execution_count": 5,
     "metadata": {},
     "output_type": "execute_result"
    }
   ],
   "source": [
    "def grayscale_to_blackwhie(img):\n",
    "    for i in range(img.shape[0]):\n",
    "        for j in range(img.shape[1]):\n",
    "            if img[i][j]>50:\n",
    "                img[i][j]=1\n",
    "            else:\n",
    "                img[i][j]=0\n",
    "    return img\n",
    "\n",
    "def erosion(img,SE):\n",
    "    SE_size=SE.shape[0]//2\n",
    "    img_temp=img.copy()\n",
    "    for i in range(SE_size,img.shape[0]-SE_size):\n",
    "        for j in range(SE_size,img.shape[1]-SE_size):\n",
    "            temp=img[i-SE_size:i+SE_size+1,j-SE_size:j+SE_size+1]\n",
    "            if not (temp == SE).all():\n",
    "                img_temp[i,j]=0\n",
    "    return img_temp\n",
    "\n",
    "\n",
    "img=cv.imread('binary-images.png')\n",
    "t,img=cv.threshold(img,127,255,cv.THRESH_BINARY)\n",
    "SE=np.array([[255,255,255],[255,255,255],[255,255,255]])\n",
    "new_img=erosion(img,SE)\n",
    "con=np.concatenate((img,new_img),axis=1)\n",
    "cv.imshow(\"eroded\",con)\n",
    "cv.waitKey(0)"
   ]
  },
  {
   "cell_type": "code",
   "execution_count": null,
   "id": "b6b66e20",
   "metadata": {},
   "outputs": [],
   "source": [
    "#open\n"
   ]
  },
  {
   "cell_type": "code",
   "execution_count": null,
   "id": "92e9d9dc",
   "metadata": {},
   "outputs": [],
   "source": []
  }
 ],
 "metadata": {
  "kernelspec": {
   "display_name": "Python 3 (ipykernel)",
   "language": "python",
   "name": "python3"
  },
  "language_info": {
   "codemirror_mode": {
    "name": "ipython",
    "version": 3
   },
   "file_extension": ".py",
   "mimetype": "text/x-python",
   "name": "python",
   "nbconvert_exporter": "python",
   "pygments_lexer": "ipython3",
   "version": "3.9.12"
  }
 },
 "nbformat": 4,
 "nbformat_minor": 5
}
